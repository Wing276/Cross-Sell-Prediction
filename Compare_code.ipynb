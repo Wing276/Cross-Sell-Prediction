{
 "cells": [
  {
   "cell_type": "markdown",
   "metadata": {},
   "source": [
    "# Cross-Sell-Prediction\n",
    "Here, I am going to try and run various classifiers I learnt in class. They are mostly simple and fundamental models, yet there are many more advanced classifiers available (You may try on your own or take a look of my another notebook *How-Many-Customer-Stay* where I have used more advanced models such as gradient boosting)"
   ]
  },
  {
   "cell_type": "markdown",
   "metadata": {},
   "source": [
    "## Import data"
   ]
  },
  {
   "cell_type": "code",
   "execution_count": 132,
   "metadata": {},
   "outputs": [],
   "source": [
    "import pandas as pd\n",
    "import numpy as np"
   ]
  },
  {
   "cell_type": "code",
   "execution_count": 133,
   "metadata": {},
   "outputs": [
    {
     "data": {
      "text/html": [
       "<div>\n",
       "<style scoped>\n",
       "    .dataframe tbody tr th:only-of-type {\n",
       "        vertical-align: middle;\n",
       "    }\n",
       "\n",
       "    .dataframe tbody tr th {\n",
       "        vertical-align: top;\n",
       "    }\n",
       "\n",
       "    .dataframe thead th {\n",
       "        text-align: right;\n",
       "    }\n",
       "</style>\n",
       "<table border=\"1\" class=\"dataframe\">\n",
       "  <thead>\n",
       "    <tr style=\"text-align: right;\">\n",
       "      <th></th>\n",
       "      <th>Gender</th>\n",
       "      <th>Age</th>\n",
       "      <th>Driving_License</th>\n",
       "      <th>Region_Code</th>\n",
       "      <th>Previously_Insured</th>\n",
       "      <th>Vehicle_Age</th>\n",
       "      <th>Vehicle_Damage</th>\n",
       "      <th>Annual_Premium</th>\n",
       "      <th>Policy_Sales_Channel</th>\n",
       "      <th>Vintage</th>\n",
       "      <th>Response</th>\n",
       "    </tr>\n",
       "    <tr>\n",
       "      <th>id</th>\n",
       "      <th></th>\n",
       "      <th></th>\n",
       "      <th></th>\n",
       "      <th></th>\n",
       "      <th></th>\n",
       "      <th></th>\n",
       "      <th></th>\n",
       "      <th></th>\n",
       "      <th></th>\n",
       "      <th></th>\n",
       "      <th></th>\n",
       "    </tr>\n",
       "  </thead>\n",
       "  <tbody>\n",
       "    <tr>\n",
       "      <th>0</th>\n",
       "      <td>Female</td>\n",
       "      <td>28</td>\n",
       "      <td>1</td>\n",
       "      <td>11.0</td>\n",
       "      <td>1</td>\n",
       "      <td>&lt; 1 Year</td>\n",
       "      <td>No</td>\n",
       "      <td>29694.0</td>\n",
       "      <td>152.0</td>\n",
       "      <td>153</td>\n",
       "      <td>0</td>\n",
       "    </tr>\n",
       "    <tr>\n",
       "      <th>1</th>\n",
       "      <td>Female</td>\n",
       "      <td>42</td>\n",
       "      <td>1</td>\n",
       "      <td>33.0</td>\n",
       "      <td>1</td>\n",
       "      <td>1-2 Year</td>\n",
       "      <td>No</td>\n",
       "      <td>42606.0</td>\n",
       "      <td>124.0</td>\n",
       "      <td>278</td>\n",
       "      <td>0</td>\n",
       "    </tr>\n",
       "    <tr>\n",
       "      <th>2</th>\n",
       "      <td>Female</td>\n",
       "      <td>50</td>\n",
       "      <td>1</td>\n",
       "      <td>29.0</td>\n",
       "      <td>0</td>\n",
       "      <td>&gt; 2 Years</td>\n",
       "      <td>Yes</td>\n",
       "      <td>33020.0</td>\n",
       "      <td>155.0</td>\n",
       "      <td>288</td>\n",
       "      <td>0</td>\n",
       "    </tr>\n",
       "    <tr>\n",
       "      <th>3</th>\n",
       "      <td>Male</td>\n",
       "      <td>24</td>\n",
       "      <td>1</td>\n",
       "      <td>41.0</td>\n",
       "      <td>1</td>\n",
       "      <td>&lt; 1 Year</td>\n",
       "      <td>No</td>\n",
       "      <td>48894.0</td>\n",
       "      <td>152.0</td>\n",
       "      <td>126</td>\n",
       "      <td>0</td>\n",
       "    </tr>\n",
       "    <tr>\n",
       "      <th>4</th>\n",
       "      <td>Female</td>\n",
       "      <td>44</td>\n",
       "      <td>1</td>\n",
       "      <td>48.0</td>\n",
       "      <td>0</td>\n",
       "      <td>1-2 Year</td>\n",
       "      <td>Yes</td>\n",
       "      <td>2630.0</td>\n",
       "      <td>26.0</td>\n",
       "      <td>154</td>\n",
       "      <td>0</td>\n",
       "    </tr>\n",
       "  </tbody>\n",
       "</table>\n",
       "</div>"
      ],
      "text/plain": [
       "    Gender  Age  Driving_License  Region_Code  Previously_Insured Vehicle_Age  \\\n",
       "id                                                                              \n",
       "0   Female   28                1         11.0                   1    < 1 Year   \n",
       "1   Female   42                1         33.0                   1    1-2 Year   \n",
       "2   Female   50                1         29.0                   0   > 2 Years   \n",
       "3     Male   24                1         41.0                   1    < 1 Year   \n",
       "4   Female   44                1         48.0                   0    1-2 Year   \n",
       "\n",
       "   Vehicle_Damage  Annual_Premium  Policy_Sales_Channel  Vintage  Response  \n",
       "id                                                                          \n",
       "0              No         29694.0                 152.0      153         0  \n",
       "1              No         42606.0                 124.0      278         0  \n",
       "2             Yes         33020.0                 155.0      288         0  \n",
       "3              No         48894.0                 152.0      126         0  \n",
       "4             Yes          2630.0                  26.0      154         0  "
      ]
     },
     "execution_count": 133,
     "metadata": {},
     "output_type": "execute_result"
    }
   ],
   "source": [
    "df_train = pd.read_csv('insurance-train.csv', index_col=0)\n",
    "df_test = pd.read_csv('insurance-test.csv', index_col=0)\n",
    "df_train.head()"
   ]
  },
  {
   "cell_type": "markdown",
   "metadata": {},
   "source": [
    "## Explanatory Data Analysis\n",
    "Now we take a closer look at the insurance data and what preprocessing we should employ. "
   ]
  },
  {
   "cell_type": "code",
   "execution_count": 134,
   "metadata": {},
   "outputs": [],
   "source": [
    "import matplotlib.pyplot as plt\n",
    "import seaborn as sns\n",
    "from collections import Counter"
   ]
  },
  {
   "cell_type": "code",
   "execution_count": 135,
   "metadata": {},
   "outputs": [
    {
     "data": {
      "text/html": [
       "<div>\n",
       "<style scoped>\n",
       "    .dataframe tbody tr th:only-of-type {\n",
       "        vertical-align: middle;\n",
       "    }\n",
       "\n",
       "    .dataframe tbody tr th {\n",
       "        vertical-align: top;\n",
       "    }\n",
       "\n",
       "    .dataframe thead th {\n",
       "        text-align: right;\n",
       "    }\n",
       "</style>\n",
       "<table border=\"1\" class=\"dataframe\">\n",
       "  <thead>\n",
       "    <tr style=\"text-align: right;\">\n",
       "      <th></th>\n",
       "      <th>Age</th>\n",
       "      <th>Driving_License</th>\n",
       "      <th>Region_Code</th>\n",
       "      <th>Previously_Insured</th>\n",
       "      <th>Annual_Premium</th>\n",
       "      <th>Policy_Sales_Channel</th>\n",
       "      <th>Vintage</th>\n",
       "      <th>Response</th>\n",
       "    </tr>\n",
       "  </thead>\n",
       "  <tbody>\n",
       "    <tr>\n",
       "      <th>count</th>\n",
       "      <td>342999.000000</td>\n",
       "      <td>342999.000000</td>\n",
       "      <td>342999.000000</td>\n",
       "      <td>342999.000000</td>\n",
       "      <td>342999.000000</td>\n",
       "      <td>342999.000000</td>\n",
       "      <td>342999.000000</td>\n",
       "      <td>342999.000000</td>\n",
       "    </tr>\n",
       "    <tr>\n",
       "      <th>mean</th>\n",
       "      <td>38.829489</td>\n",
       "      <td>0.997915</td>\n",
       "      <td>26.393185</td>\n",
       "      <td>0.458100</td>\n",
       "      <td>30558.360771</td>\n",
       "      <td>112.006140</td>\n",
       "      <td>154.367887</td>\n",
       "      <td>0.122808</td>\n",
       "    </tr>\n",
       "    <tr>\n",
       "      <th>std</th>\n",
       "      <td>15.511843</td>\n",
       "      <td>0.045609</td>\n",
       "      <td>13.229196</td>\n",
       "      <td>0.498242</td>\n",
       "      <td>17238.711480</td>\n",
       "      <td>54.217773</td>\n",
       "      <td>83.666962</td>\n",
       "      <td>0.328217</td>\n",
       "    </tr>\n",
       "    <tr>\n",
       "      <th>min</th>\n",
       "      <td>20.000000</td>\n",
       "      <td>0.000000</td>\n",
       "      <td>0.000000</td>\n",
       "      <td>0.000000</td>\n",
       "      <td>2630.000000</td>\n",
       "      <td>1.000000</td>\n",
       "      <td>10.000000</td>\n",
       "      <td>0.000000</td>\n",
       "    </tr>\n",
       "    <tr>\n",
       "      <th>25%</th>\n",
       "      <td>25.000000</td>\n",
       "      <td>1.000000</td>\n",
       "      <td>15.000000</td>\n",
       "      <td>0.000000</td>\n",
       "      <td>24397.000000</td>\n",
       "      <td>29.000000</td>\n",
       "      <td>82.000000</td>\n",
       "      <td>0.000000</td>\n",
       "    </tr>\n",
       "    <tr>\n",
       "      <th>50%</th>\n",
       "      <td>36.000000</td>\n",
       "      <td>1.000000</td>\n",
       "      <td>28.000000</td>\n",
       "      <td>0.000000</td>\n",
       "      <td>31657.000000</td>\n",
       "      <td>133.000000</td>\n",
       "      <td>154.000000</td>\n",
       "      <td>0.000000</td>\n",
       "    </tr>\n",
       "    <tr>\n",
       "      <th>75%</th>\n",
       "      <td>49.000000</td>\n",
       "      <td>1.000000</td>\n",
       "      <td>35.000000</td>\n",
       "      <td>1.000000</td>\n",
       "      <td>39398.000000</td>\n",
       "      <td>152.000000</td>\n",
       "      <td>227.000000</td>\n",
       "      <td>0.000000</td>\n",
       "    </tr>\n",
       "    <tr>\n",
       "      <th>max</th>\n",
       "      <td>85.000000</td>\n",
       "      <td>1.000000</td>\n",
       "      <td>52.000000</td>\n",
       "      <td>1.000000</td>\n",
       "      <td>540165.000000</td>\n",
       "      <td>163.000000</td>\n",
       "      <td>299.000000</td>\n",
       "      <td>1.000000</td>\n",
       "    </tr>\n",
       "  </tbody>\n",
       "</table>\n",
       "</div>"
      ],
      "text/plain": [
       "                 Age  Driving_License    Region_Code  Previously_Insured  \\\n",
       "count  342999.000000    342999.000000  342999.000000       342999.000000   \n",
       "mean       38.829489         0.997915      26.393185            0.458100   \n",
       "std        15.511843         0.045609      13.229196            0.498242   \n",
       "min        20.000000         0.000000       0.000000            0.000000   \n",
       "25%        25.000000         1.000000      15.000000            0.000000   \n",
       "50%        36.000000         1.000000      28.000000            0.000000   \n",
       "75%        49.000000         1.000000      35.000000            1.000000   \n",
       "max        85.000000         1.000000      52.000000            1.000000   \n",
       "\n",
       "       Annual_Premium  Policy_Sales_Channel        Vintage       Response  \n",
       "count   342999.000000         342999.000000  342999.000000  342999.000000  \n",
       "mean     30558.360771            112.006140     154.367887       0.122808  \n",
       "std      17238.711480             54.217773      83.666962       0.328217  \n",
       "min       2630.000000              1.000000      10.000000       0.000000  \n",
       "25%      24397.000000             29.000000      82.000000       0.000000  \n",
       "50%      31657.000000            133.000000     154.000000       0.000000  \n",
       "75%      39398.000000            152.000000     227.000000       0.000000  \n",
       "max     540165.000000            163.000000     299.000000       1.000000  "
      ]
     },
     "execution_count": 135,
     "metadata": {},
     "output_type": "execute_result"
    }
   ],
   "source": [
    "df_train.describe()"
   ]
  },
  {
   "cell_type": "markdown",
   "metadata": {},
   "source": [
    "We can see that the mean of the `Response` column is very low. If the data was balanced, the mean should be 0.5"
   ]
  },
  {
   "cell_type": "code",
   "execution_count": 136,
   "metadata": {},
   "outputs": [
    {
     "data": {
      "text/plain": [
       "0    0.877192\n",
       "1    0.122808\n",
       "Name: Response, dtype: float64"
      ]
     },
     "execution_count": 136,
     "metadata": {},
     "output_type": "execute_result"
    }
   ],
   "source": [
    "df_train['Response'].value_counts(normalize=True)"
   ]
  },
  {
   "cell_type": "markdown",
   "metadata": {},
   "source": [
    "Further inspection shows that the values in the `Response` column is indeed very imbalanced. One of the methods to solve such problem is resampling, so we will upsample/downsample our training set later on. "
   ]
  },
  {
   "cell_type": "code",
   "execution_count": 137,
   "metadata": {},
   "outputs": [
    {
     "data": {
      "text/html": [
       "<div>\n",
       "<style scoped>\n",
       "    .dataframe tbody tr th:only-of-type {\n",
       "        vertical-align: middle;\n",
       "    }\n",
       "\n",
       "    .dataframe tbody tr th {\n",
       "        vertical-align: top;\n",
       "    }\n",
       "\n",
       "    .dataframe thead th {\n",
       "        text-align: right;\n",
       "    }\n",
       "</style>\n",
       "<table border=\"1\" class=\"dataframe\">\n",
       "  <thead>\n",
       "    <tr style=\"text-align: right;\">\n",
       "      <th></th>\n",
       "      <th>Gender</th>\n",
       "      <th>Vehicle_Age</th>\n",
       "      <th>Vehicle_Damage</th>\n",
       "    </tr>\n",
       "  </thead>\n",
       "  <tbody>\n",
       "    <tr>\n",
       "      <th>count</th>\n",
       "      <td>342999</td>\n",
       "      <td>342999</td>\n",
       "      <td>342999</td>\n",
       "    </tr>\n",
       "    <tr>\n",
       "      <th>unique</th>\n",
       "      <td>2</td>\n",
       "      <td>3</td>\n",
       "      <td>2</td>\n",
       "    </tr>\n",
       "    <tr>\n",
       "      <th>top</th>\n",
       "      <td>Male</td>\n",
       "      <td>1-2 Year</td>\n",
       "      <td>Yes</td>\n",
       "    </tr>\n",
       "    <tr>\n",
       "      <th>freq</th>\n",
       "      <td>185609</td>\n",
       "      <td>180268</td>\n",
       "      <td>173167</td>\n",
       "    </tr>\n",
       "  </tbody>\n",
       "</table>\n",
       "</div>"
      ],
      "text/plain": [
       "        Gender Vehicle_Age Vehicle_Damage\n",
       "count   342999      342999         342999\n",
       "unique       2           3              2\n",
       "top       Male    1-2 Year            Yes\n",
       "freq    185609      180268         173167"
      ]
     },
     "execution_count": 137,
     "metadata": {},
     "output_type": "execute_result"
    }
   ],
   "source": [
    "df_train.describe(include='O')"
   ]
  },
  {
   "cell_type": "markdown",
   "metadata": {},
   "source": [
    "There are two, three, two unique values for Gender, Vehicle_Age, Vehicle_Damage respectively"
   ]
  },
  {
   "cell_type": "markdown",
   "metadata": {},
   "source": [
    "#### Check for missing value"
   ]
  },
  {
   "cell_type": "code",
   "execution_count": 138,
   "metadata": {},
   "outputs": [
    {
     "name": "stdout",
     "output_type": "stream",
     "text": [
      "<class 'pandas.core.frame.DataFrame'>\n",
      "Int64Index: 342999 entries, 0 to 342998\n",
      "Data columns (total 11 columns):\n",
      " #   Column                Non-Null Count   Dtype  \n",
      "---  ------                --------------   -----  \n",
      " 0   Gender                342999 non-null  object \n",
      " 1   Age                   342999 non-null  int64  \n",
      " 2   Driving_License       342999 non-null  int64  \n",
      " 3   Region_Code           342999 non-null  float64\n",
      " 4   Previously_Insured    342999 non-null  int64  \n",
      " 5   Vehicle_Age           342999 non-null  object \n",
      " 6   Vehicle_Damage        342999 non-null  object \n",
      " 7   Annual_Premium        342999 non-null  float64\n",
      " 8   Policy_Sales_Channel  342999 non-null  float64\n",
      " 9   Vintage               342999 non-null  int64  \n",
      " 10  Response              342999 non-null  int64  \n",
      "dtypes: float64(3), int64(5), object(3)\n",
      "memory usage: 31.4+ MB\n"
     ]
    }
   ],
   "source": [
    "df_train.info()"
   ]
  },
  {
   "cell_type": "markdown",
   "metadata": {},
   "source": [
    "No missing values for all columns"
   ]
  },
  {
   "cell_type": "markdown",
   "metadata": {},
   "source": [
    "#### Correlation analysis (for numeric and binary attributes)"
   ]
  },
  {
   "cell_type": "code",
   "execution_count": 139,
   "metadata": {},
   "outputs": [
    {
     "data": {
      "image/png": "[encoded data removed]",
      "text/plain": [
       "<Figure size 504x360 with 2 Axes>"
      ]
     },
     "metadata": {
      "needs_background": "light"
     },
     "output_type": "display_data"
    }
   ],
   "source": [
    "plt.figure(figsize=(7,5))\n",
    "cor=df_train[df_train.describe().columns].corr()\n",
    "sns.heatmap(cor,annot=True,cmap=plt.cm.Blues)\n",
    "plt.show()"
   ]
  },
  {
   "cell_type": "markdown",
   "metadata": {},
   "source": [
    "By looking at this heat map we can see that `Response` has the highest correlation with features `Previously_Insured` (If people already have transport insurance, the less likely they would buy the insurance, make sense!), we can predict `Previously_Insured` will be an important feature"
   ]
  },
  {
   "cell_type": "code",
   "execution_count": 140,
   "metadata": {},
   "outputs": [
    {
     "data": {
      "text/plain": [
       "Vehicle_Age  Response\n",
       "1-2 Year     0           0.825965\n",
       "             1           0.174035\n",
       "< 1 Year     0           0.956299\n",
       "             1           0.043701\n",
       "> 2 Years    0           0.704519\n",
       "             1           0.295481\n",
       "Name: Response, dtype: float64"
      ]
     },
     "execution_count": 140,
     "metadata": {},
     "output_type": "execute_result"
    }
   ],
   "source": [
    "df_train.groupby('Vehicle_Age')['Response'].value_counts(normalize=True)"
   ]
  },
  {
   "cell_type": "markdown",
   "metadata": {},
   "source": [
    "We can see that people with an older car tend to buy the insurance "
   ]
  },
  {
   "cell_type": "code",
   "execution_count": 141,
   "metadata": {},
   "outputs": [
    {
     "data": {
      "text/plain": [
       "Vehicle_Damage  Response\n",
       "No              0           0.994754\n",
       "                1           0.005246\n",
       "Yes             0           0.761895\n",
       "                1           0.238105\n",
       "Name: Response, dtype: float64"
      ]
     },
     "execution_count": 141,
     "metadata": {},
     "output_type": "execute_result"
    }
   ],
   "source": [
    "df_train.groupby('Vehicle_Damage')['Response'].value_counts(normalize=True)"
   ]
  },
  {
   "cell_type": "markdown",
   "metadata": {},
   "source": [
    "We can see that people with a damaged car tend to buy the insurance"
   ]
  },
  {
   "cell_type": "code",
   "execution_count": 142,
   "metadata": {},
   "outputs": [
    {
     "data": {
      "text/plain": [
       "count    342999.000000\n",
       "mean      30558.360771\n",
       "std       17238.711480\n",
       "min        2630.000000\n",
       "25%       24397.000000\n",
       "50%       31657.000000\n",
       "75%       39398.000000\n",
       "max      540165.000000\n",
       "Name: Annual_Premium, dtype: float64"
      ]
     },
     "execution_count": 142,
     "metadata": {},
     "output_type": "execute_result"
    }
   ],
   "source": [
    "df_train['Annual_Premium'].describe()"
   ]
  },
  {
   "cell_type": "markdown",
   "metadata": {},
   "source": [
    "There are some extremly large values. Let's plot a boxplot to have a deeper look."
   ]
  },
  {
   "cell_type": "code",
   "execution_count": 143,
   "metadata": {},
   "outputs": [
    {
     "data": {
      "text/plain": [
       "<AxesSubplot:>"
      ]
     },
     "execution_count": 143,
     "metadata": {},
     "output_type": "execute_result"
    },
    {
     "data": {
      "image/png": "[encoded data removed]",
      "text/plain": [
       "<Figure size 432x288 with 1 Axes>"
      ]
     },
     "metadata": {
      "needs_background": "light"
     },
     "output_type": "display_data"
    }
   ],
   "source": [
    "df_train['Annual_Premium'].plot(kind=\"box\")"
   ]
  },
  {
   "cell_type": "markdown",
   "metadata": {},
   "source": [
    "There are indeed some outliers. We need to remove them in the next step."
   ]
  },
  {
   "cell_type": "markdown",
   "metadata": {},
   "source": [
    "## Data Preprocessing"
   ]
  },
  {
   "cell_type": "markdown",
   "metadata": {},
   "source": [
    "We start by transforming categorial data `Gender`,`Vehicle_Age`,`Vehicle_Damage` into numerical data"
   ]
  },
  {
   "cell_type": "code",
   "execution_count": 144,
   "metadata": {},
   "outputs": [],
   "source": [
    "from sklearn.preprocessing import LabelEncoder, KBinsDiscretizer\n",
    "le = LabelEncoder()\n",
    "df_train['Gender'] = le.fit_transform(df_train['Gender'])\n",
    "df_test['Gender'] = le.transform(df_test['Gender'])\n",
    "df_train['Vehicle_Damage'] = le.fit_transform(df_train['Vehicle_Damage'])\n",
    "df_test['Vehicle_Damage'] = le.transform(df_test['Vehicle_Damage'])\n",
    "\n",
    "# since Vehicle_Age is ordinal, we encode explicitly\n",
    "df_train['Vehicle_Age'] = df_train['Vehicle_Age'].map({'< 1 Year':0,'1-2 Year':1,'> 2 Years':2})\n",
    "df_test['Vehicle_Age'] = df_test['Vehicle_Age'].map({'< 1 Year':0,'1-2 Year':1,'> 2 Years':2})"
   ]
  },
  {
   "cell_type": "markdown",
   "metadata": {},
   "source": [
    "We then smooth the data by removing outliers and binning the `Annual_Premium` column"
   ]
  },
  {
   "cell_type": "code",
   "execution_count": 145,
   "metadata": {},
   "outputs": [],
   "source": [
    "# removing outliers\n",
    "Q1 = 24397.000000\n",
    "Q3 = 39398.000000\n",
    "IQR = Q3-Q1\n",
    "df_train = df_train[(df_train['Annual_Premium']>Q1-1.5*IQR) & (df_train['Annual_Premium']<Q3+1.5*IQR)]\n",
    "\n",
    "# binning \n",
    "discretizer = KBinsDiscretizer(n_bins=100, encode='ordinal', strategy='uniform')\n",
    "df_train['Annual_Premium']=discretizer.fit_transform(df_train['Annual_Premium'].values.reshape(-1, 1)).astype(int)\n",
    "df_test['Annual_Premium']=discretizer.transform(df_test['Annual_Premium'].values.reshape(-1, 1)).astype(int)"
   ]
  },
  {
   "cell_type": "code",
   "execution_count": 146,
   "metadata": {},
   "outputs": [],
   "source": [
    "df_train.drop_duplicates(inplace = True)"
   ]
  },
  {
   "cell_type": "markdown",
   "metadata": {},
   "source": [
    "Next we perform feature selection to select the highest scoring features in this dataset. Say we pick k = 7. To find the best value of K, you can fit multiple models with different K, then choose the one with highest validation score."
   ]
  },
  {
   "cell_type": "code",
   "execution_count": 147,
   "metadata": {},
   "outputs": [],
   "source": [
    "y = df_train['Response']\n",
    "X = df_train.drop('Response', axis=1)"
   ]
  },
  {
   "cell_type": "code",
   "execution_count": 148,
   "metadata": {},
   "outputs": [
    {
     "data": {
      "text/plain": [
       "Index(['Driving_License', 'Region_Code', 'Vintage'], dtype='object')"
      ]
     },
     "execution_count": 148,
     "metadata": {},
     "output_type": "execute_result"
    }
   ],
   "source": [
    "from sklearn.feature_selection import SelectKBest\n",
    "skb = SelectKBest(k=7)\n",
    "skb.fit_transform(X, y)\n",
    "X.columns[~skb.get_support()]"
   ]
  },
  {
   "cell_type": "markdown",
   "metadata": {},
   "source": [
    "If we choose 7 features only, we can see that the algorithm suggests that `Driving License, Region_Code, Vintage` are the features with the lowest scores. This corresponds with the earlier result we got from the correlation heatmap. So we remove them from our training and testing data. "
   ]
  },
  {
   "cell_type": "code",
   "execution_count": 149,
   "metadata": {},
   "outputs": [],
   "source": [
    "X.drop(columns=['Driving_License', 'Region_Code', 'Vintage'], inplace=True)\n",
    "df_test.drop(columns=['Driving_License', 'Region_Code', 'Vintage'], inplace=True)"
   ]
  },
  {
   "cell_type": "markdown",
   "metadata": {},
   "source": [
    "We then split the train data with test size of 0.2"
   ]
  },
  {
   "cell_type": "code",
   "execution_count": 150,
   "metadata": {},
   "outputs": [],
   "source": [
    "from sklearn.model_selection import train_test_split\n",
    "X_train, X_test, y_train, y_test = train_test_split(X, y, test_size=0.2, random_state=1)"
   ]
  },
  {
   "cell_type": "markdown",
   "metadata": {},
   "source": [
    "Note that the X_test and y_test is also actually called the validation set. Since we have df_test as the testing set."
   ]
  },
  {
   "cell_type": "markdown",
   "metadata": {},
   "source": [
    "After splitting, we perform random oversampling on the dataset to increase the number of '1's. Oversampling generally yields a better performance. But for SVC, we will instead apply a downsampled dataset due to the long training time."
   ]
  },
  {
   "cell_type": "code",
   "execution_count": 151,
   "metadata": {},
   "outputs": [
    {
     "name": "stdout",
     "output_type": "stream",
     "text": [
      "oversampled data: dict_items([(0, 233485), (1, 155656)])\n"
     ]
    }
   ],
   "source": [
    "from sklearn.utils import resample\n",
    "reX = pd.concat([X_train, y_train], axis=1)\n",
    "no_response = reX[reX['Response'] == 0]\n",
    "has_response = reX[reX['Response'] == 1]\n",
    "has_response = resample(has_response,replace = True, n_samples=int(len(no_response)*2/3), random_state=8)                   \n",
    "resample_df = pd.concat([no_response,has_response])\n",
    "y_train_up = resample_df['Response']\n",
    "X_train_up = resample_df.drop('Response', axis=1)\n",
    "\n",
    "print('oversampled data:', Counter(y_train_up).items())"
   ]
  },
  {
   "cell_type": "code",
   "execution_count": 152,
   "metadata": {},
   "outputs": [
    {
     "name": "stdout",
     "output_type": "stream",
     "text": [
      "undersampled data: dict_items([(0, 32613), (1, 32613)])\n"
     ]
    }
   ],
   "source": [
    "reX = pd.concat([X_train, y_train], axis=1)\n",
    "no_response = reX[reX['Response'] == 0]\n",
    "has_response = reX[reX['Response'] == 1]\n",
    "no_response = resample(no_response,replace = True, n_samples=len(has_response), random_state=8)                   \n",
    "resample_df = pd.concat([no_response,has_response])\n",
    "y_train_down = resample_df['Response']\n",
    "X_train_down = resample_df.drop('Response', axis=1)\n",
    "\n",
    "print('undersampled data:', Counter(y_train_down).items())"
   ]
  },
  {
   "cell_type": "markdown",
   "metadata": {},
   "source": [
    "## Hyperparameter Tuning and Model Training"
   ]
  },
  {
   "cell_type": "markdown",
   "metadata": {},
   "source": [
    "Here, we will try and compare different models: Decision Tree, KNN, Navie Bayes, Support Vector Machine, Randome Forest, Bagging, Adaboost\\\n",
    "We will also tune some parameters:\\\n",
    "SVM: C\\\n",
    "KNN: k\\\n",
    "Decision Tree: max depth\\\n",
    "Ensemble: the number of classifier\\\n",
    "Naive Bayes: use the model with laplace or not"
   ]
  },
  {
   "cell_type": "code",
   "execution_count": 153,
   "metadata": {},
   "outputs": [],
   "source": [
    "from sklearn.tree import DecisionTreeClassifier\n",
    "from sklearn.neighbors import KNeighborsClassifier\n",
    "from sklearn.naive_bayes import GaussianNB, MultinomialNB\n",
    "from sklearn.svm import SVC\n",
    "from sklearn.ensemble import RandomForestClassifier, BaggingClassifier, AdaBoostClassifier\n",
    "from sklearn.metrics import accuracy_score, f1_score"
   ]
  },
  {
   "cell_type": "markdown",
   "metadata": {},
   "source": [
    "### Decision Tree"
   ]
  },
  {
   "cell_type": "code",
   "execution_count": 154,
   "metadata": {},
   "outputs": [],
   "source": [
    "trainAcc_dtree = []\n",
    "testAcc_dtree = []\n",
    "f1_dtree = []"
   ]
  },
  {
   "cell_type": "code",
   "execution_count": 155,
   "metadata": {},
   "outputs": [],
   "source": [
    "max_depth = [1, 5, 10, 15, 20, 25, 30, 35]\n",
    "\n",
    "for d in max_depth:    \n",
    "    dt = DecisionTreeClassifier(criterion=\"gini\", max_depth=d, random_state=8)\n",
    "    dt = dt.fit(X_train_up, y_train_up)\n",
    "    Y_predTrain = dt.predict(X_train_up)\n",
    "    Y_predTest = dt.predict(X_test)\n",
    "    trainAcc_dtree.append(accuracy_score(y_train_up, Y_predTrain))\n",
    "    testAcc_dtree.append(accuracy_score(y_test, Y_predTest))\n",
    "    f1_dtree.append(f1_score(y_test, Y_predTest))"
   ]
  },
  {
   "cell_type": "code",
   "execution_count": 156,
   "metadata": {},
   "outputs": [
    {
     "data": {
      "image/png": "[encoded data removed]",
      "text/plain": [
       "<Figure size 1080x360 with 1 Axes>"
      ]
     },
     "metadata": {
      "needs_background": "light"
     },
     "output_type": "display_data"
    }
   ],
   "source": [
    "plt.figure(figsize = (15,5))\n",
    "plt.plot(max_depth,trainAcc_dtree,'ro-', max_depth,testAcc_dtree,'gv--', max_depth,f1_dtree,'bv--')\n",
    "plt.legend(['Train Accuracy','Test Accuracy','Test F1 Score'])\n",
    "plt.xlabel('max_depth')\n",
    "plt.show()"
   ]
  },
  {
   "cell_type": "markdown",
   "metadata": {},
   "source": [
    "From the graph, we can see that we should choose the model when max_depth is 5 or 10, we will have a deeper look in the next step.\\\n",
    "Another intersting thing to point out is that when max_depth > 20, overfitting problem occur, as the gap between training accuracy and testing accuracy is becoming larger and training accuracy is around 90%, very high!"
   ]
  },
  {
   "cell_type": "code",
   "execution_count": 157,
   "metadata": {},
   "outputs": [
    {
     "name": "stdout",
     "output_type": "stream",
     "text": [
      "[0.3820501073038991, 0.4351351351351351, 0.44269086604853025, 0.435392881128274, 0.41969669937555754, 0.39909190543291057, 0.38567035159172136, 0.3824795341379019]\n"
     ]
    }
   ],
   "source": [
    "print(f1_dtree)"
   ]
  },
  {
   "cell_type": "markdown",
   "metadata": {},
   "source": [
    "#### Results: \n",
    "The maximum f1 score we can get from the decision tree is 0.443 at max_depth = 10.\n",
    "\n",
    "\n",
    "| max_depth | 1 | 5 | 10 | 15 | 20 | 25 | 30 | 35 |\n",
    "| --- | --- | --- | --- | --- | --- | --- | --- | --- | \n",
    "| **f1 score** | 0.382 | 0.435 | **0.443** | 0.435 | 0.420 | 0.399 | 0.386 | 0.382 |"
   ]
  },
  {
   "cell_type": "markdown",
   "metadata": {},
   "source": [
    "### K-Nearest Neighbors"
   ]
  },
  {
   "cell_type": "code",
   "execution_count": 158,
   "metadata": {},
   "outputs": [],
   "source": [
    "f1_knn = []\n",
    "num_neighbors = [5, 10, 15, 20, 25, 30]\n",
    "\n",
    "for k in num_neighbors:\n",
    "    knn = KNeighborsClassifier(n_neighbors = k, weights='distance', metric='minkowski', p=2, n_jobs=-1)\n",
    "    knn.fit(X_train_up, y_train_up)\n",
    "    Y_predTest = knn.predict(X_test)\n",
    "    f1_knn.append(f1_score(y_test, Y_predTest))"
   ]
  },
  {
   "cell_type": "code",
   "execution_count": 159,
   "metadata": {},
   "outputs": [
    {
     "name": "stdout",
     "output_type": "stream",
     "text": [
      "f1 Score: [0.35857497928748966, 0.3639592406240751, 0.37524872225039996, 0.37838050934321527, 0.3815587603559374, 0.3810628916221861]\n"
     ]
    }
   ],
   "source": [
    "print('f1 Score:', f1_knn)"
   ]
  },
  {
   "cell_type": "markdown",
   "metadata": {},
   "source": [
    "#### Results: \n",
    "The maximum f1 score we can get from knn is 0.382 at k = 25. \n",
    "\n",
    "| neighbors | 5 | 10 | 15 | 20 | 25 | 30 |\n",
    "| --- | --- | --- | --- | --- | --- | --- | \n",
    "| **f1 score** | 0.359 | 0.364 | 0.375 | 0.378 | **0.382** | 0.381 |"
   ]
  },
  {
   "cell_type": "markdown",
   "metadata": {},
   "source": [
    "### Naive Bayes"
   ]
  },
  {
   "cell_type": "code",
   "execution_count": 160,
   "metadata": {},
   "outputs": [],
   "source": [
    "f1_nb = []\n",
    "gnb = GaussianNB() # with no laplace smoothing\n",
    "mnb = MultinomialNB(alpha=1) # with laplace smoothing\n",
    "nb_classifiers = [gnb, mnb]\n",
    "\n",
    "for nb in nb_classifiers:\n",
    "    nb.fit(X_train_up, y_train_up)\n",
    "    Y_predTest = nb.predict(X_test)\n",
    "    f1_nb.append(f1_score(y_test, Y_predTest))"
   ]
  },
  {
   "cell_type": "code",
   "execution_count": 161,
   "metadata": {},
   "outputs": [
    {
     "name": "stdout",
     "output_type": "stream",
     "text": [
      "f1 Score: [0.398166339227243, 0.2757609333246432]\n"
     ]
    }
   ],
   "source": [
    "print('f1 Score:', f1_nb)"
   ]
  },
  {
   "cell_type": "markdown",
   "metadata": {},
   "source": [
    "#### Results: \n",
    "We tested 2 types of Naive Bayes Classifier, and Gaussian yields better result at an f1 score of 0.398.\n",
    "\n",
    "| Classifiers | GaussianNB | MultinominalNB |\n",
    "| --- | --- | --- | \n",
    "| **f1 score** | **0.398** | 0.276 |"
   ]
  },
  {
   "cell_type": "markdown",
   "metadata": {},
   "source": [
    "### SVM\n",
    "For SVM, due to limited computational resources, it requires excessive running time (say a few days) to finish the training phase. To alleviate such an issue, I used downsampled training set so that the training process can finish in a reasonable time (say a few hours)."
   ]
  },
  {
   "cell_type": "code",
   "execution_count": 162,
   "metadata": {},
   "outputs": [],
   "source": [
    "f1_svm = []\n",
    "c_values = [0.1, 1, 10, 100]\n",
    "\n",
    "for c in c_values:\n",
    "    svc = SVC(kernel='rbf', C=c)\n",
    "    svc.fit(X_train_down,y_train_down)\n",
    "    Y_predTest = svc.predict(X_test)\n",
    "    f1_svm.append(f1_score(y_test, Y_predTest))"
   ]
  },
  {
   "cell_type": "code",
   "execution_count": 163,
   "metadata": {},
   "outputs": [
    {
     "name": "stdout",
     "output_type": "stream",
     "text": [
      "f1 Score: [0.3005592893735019, 0.40677013045434096, 0.40551716917922953, 0.4033708152967393]\n"
     ]
    }
   ],
   "source": [
    "print('f1 Score:', f1_svm)"
   ]
  },
  {
   "cell_type": "markdown",
   "metadata": {},
   "source": [
    "#### Results\n",
    "The rbf kernal generated the best result of 0.407 when `C=1`.\n",
    "\n",
    "| C Value | 0.1 | 1 | 10 | 100 |\n",
    "| --- | --- | --- | --- | --- |\n",
    "| **f1 score** | 0.301 | **0.407** | 0.406 | 0.403 |"
   ]
  },
  {
   "cell_type": "markdown",
   "metadata": {},
   "source": [
    "### Ensemble: Random Forest"
   ]
  },
  {
   "cell_type": "code",
   "execution_count": 164,
   "metadata": {},
   "outputs": [],
   "source": [
    "maxdepth = 5 # or any other value, you can also try optimize this parameter\n",
    "numBaseClassifiers = [10,100,500]"
   ]
  },
  {
   "cell_type": "code",
   "execution_count": 165,
   "metadata": {},
   "outputs": [],
   "source": [
    "f1_rf = []\n",
    "\n",
    "for n in numBaseClassifiers:   \n",
    "    rf = RandomForestClassifier(n_estimators=n,max_depth=maxdepth,\n",
    "                                n_jobs=-1,class_weight=\"balanced\", random_state=8)\n",
    "    rf.fit(X_train_up, y_train_up)\n",
    "    Y_predTest = rf.predict(X_test)\n",
    "    f1_rf.append(f1_score(y_test, Y_predTest))"
   ]
  },
  {
   "cell_type": "code",
   "execution_count": 166,
   "metadata": {},
   "outputs": [
    {
     "name": "stdout",
     "output_type": "stream",
     "text": [
      "f1 Score: [0.4199518632251639, 0.42121068876345136, 0.42222719391464847]\n"
     ]
    }
   ],
   "source": [
    "print('f1 Score:', f1_rf)"
   ]
  },
  {
   "cell_type": "markdown",
   "metadata": {},
   "source": [
    "#### Results: \n",
    "The improvement in f1 score is not significant. We will take the result of 0.422 for random forest."
   ]
  },
  {
   "cell_type": "markdown",
   "metadata": {},
   "source": [
    "### Ensemble: Bagging"
   ]
  },
  {
   "cell_type": "code",
   "execution_count": 167,
   "metadata": {},
   "outputs": [],
   "source": [
    "f1_bag = []\n",
    "dtc = DecisionTreeClassifier(criterion=\"gini\", max_depth=maxdepth, random_state=8)\n",
    "\n",
    "for n in numBaseClassifiers:   \n",
    "    bag = BaggingClassifier(dtc, n_estimators=n,n_jobs=-1, random_state=1)\n",
    "    bag.fit(X_train_up, y_train_up)\n",
    "    Y_predTest = bag.predict(X_test)\n",
    "    f1_bag.append(f1_score(y_test, Y_predTest))"
   ]
  },
  {
   "cell_type": "code",
   "execution_count": 168,
   "metadata": {},
   "outputs": [
    {
     "name": "stdout",
     "output_type": "stream",
     "text": [
      "f1 Score: [0.43699740292249445, 0.43706578206171365, 0.43707946045754703]\n"
     ]
    }
   ],
   "source": [
    "print('f1 Score:', f1_bag)"
   ]
  },
  {
   "cell_type": "markdown",
   "metadata": {},
   "source": [
    "#### Results: \n",
    "The f1 scores are almost the same at 0.437 for all the tested n_estimators"
   ]
  },
  {
   "cell_type": "markdown",
   "metadata": {},
   "source": [
    "### Ensemble: Adaboost"
   ]
  },
  {
   "cell_type": "code",
   "execution_count": 169,
   "metadata": {},
   "outputs": [],
   "source": [
    "f1_ada = []\n",
    "for n in numBaseClassifiers:   \n",
    "    ada = AdaBoostClassifier(dtc, n_estimators=n, random_state=1)\n",
    "    ada.fit(X_train_up, y_train_up)\n",
    "    Y_predTest = ada.predict(X_test)\n",
    "    f1_ada.append(f1_score(y_test, Y_predTest))"
   ]
  },
  {
   "cell_type": "code",
   "execution_count": 170,
   "metadata": {},
   "outputs": [
    {
     "name": "stdout",
     "output_type": "stream",
     "text": [
      "f1 Score: [0.44416375178131884, 0.4402540690750298, 0.431523642732049]\n"
     ]
    }
   ],
   "source": [
    "print('f1 Score:', f1_ada)"
   ]
  },
  {
   "cell_type": "markdown",
   "metadata": {},
   "source": [
    "#### Results: \n",
    "Adaboost gives the best result of 0.444 when n_estimators = 10"
   ]
  },
  {
   "cell_type": "markdown",
   "metadata": {},
   "source": [
    "## Conclusion"
   ]
  },
  {
   "cell_type": "markdown",
   "metadata": {},
   "source": [
    "Collecting the highest scores from each classifier, we get the table: \n",
    "\n",
    "| Classifier | Hyperparameter | f1 score |\n",
    "| --- | --- | --- | \n",
    "| Decision Tree | `max_depth=10` | **0.443** |\n",
    "| k-Nearest Neighbors | `n_neighbors=25` | 0.382 | \n",
    "| Naive Bayes | `GaussianNB()` | 0.398 |\n",
    "| SVM | `kernal='rbf',C=1` | 0.407 | \n",
    "| Random Forest | `n_estimators=500, max_depth=5` | 0.422 |\n",
    "| Bagging | `base_estimator=DecisionTreeClassifier(), n_estimators=500, max_depth=5` | 0.437 | \n",
    "| Adaboost | `base_estimator=DecisionTreeClassifier(), n_estimators=10, max_depth=5` | **0.444** |\n",
    "\n",
    "\n",
    "From which we can conclude that with our preprocessing methods, the 2 best classifiers are Decision Tree and Adaboost. "
   ]
  },
  {
   "cell_type": "code",
   "execution_count": 171,
   "metadata": {},
   "outputs": [],
   "source": [
    "# decision tree\n",
    "dt = DecisionTreeClassifier(criterion=\"gini\", max_depth=10, random_state=8)\n",
    "dt = dt.fit(X_train_up, y_train_up)\n",
    "dt_predictions = dt.predict(df_test)\n",
    "\n",
    "df_submission = pd.read_csv('samplesubmission.csv')\n",
    "df_submission['Response'] = dt_predictions\n",
    "df_submission.to_csv('submission_1_dtree.csv', index = False)"
   ]
  },
  {
   "cell_type": "code",
   "execution_count": 172,
   "metadata": {},
   "outputs": [],
   "source": [
    "# adaboost\n",
    "ada = AdaBoostClassifier(dtc, n_estimators=10, random_state=1)\n",
    "ada.fit(X_train_up, y_train_up)\n",
    "ada_predictions = ada.predict(df_test)\n",
    "\n",
    "df_submission = pd.read_csv('samplesubmission.csv')\n",
    "df_submission['Response'] = ada_predictions\n",
    "df_submission.to_csv('submission_1_ada.csv', index = False)"
   ]
  },
  {
   "cell_type": "markdown",
   "metadata": {},
   "source": [
    "Using these classifiers to predict `insurance-test.csv`, we get the results:\n",
    "\n",
    "| Classifier | Hyperparameter | f1 score |\n",
    "| --- | --- | --- | \n",
    "| Decision Tree | `max_depth=10` | **0.4375** |\n",
    "| Adaboost | `base_estimator=DecisionTreeClassifier(), n_estimators=10, max_depth=15` | **0.4383** |\n",
    "\n",
    "Indeed, Adaboost still slightly outperforms Decision Tree"
   ]
  },
  {
   "cell_type": "code",
   "execution_count": null,
   "metadata": {},
   "outputs": [],
   "source": []
  }
 ],
 "metadata": {
  "authors": [
   {
    "name": "Ip Wing Yan (1155126695)"
   },
   {
    "name": "Lee Yi Wen (1155100318)"
   },
   {
    "name": "Yick Kin Ho (1155100345)"
   }
  ],
  "kernelspec": {
   "display_name": "Python 3",
   "language": "python",
   "name": "python3"
  },
  "language_info": {
   "codemirror_mode": {
    "name": "ipython",
    "version": 3
   },
   "file_extension": ".py",
   "mimetype": "text/x-python",
   "name": "python",
   "nbconvert_exporter": "python",
   "pygments_lexer": "ipython3",
   "version": "3.7.7"
  }
 },
 "nbformat": 4,
 "nbformat_minor": 4
}
